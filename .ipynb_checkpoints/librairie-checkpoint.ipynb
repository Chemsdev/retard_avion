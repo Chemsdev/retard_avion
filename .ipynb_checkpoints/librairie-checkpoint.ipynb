{
 "cells": [
  {
   "cell_type": "markdown",
   "id": "4d38b902",
   "metadata": {},
   "source": [
    "## PREPARATION DE LA DATA "
   ]
  },
  {
   "cell_type": "code",
   "execution_count": null,
   "id": "e7adefd0",
   "metadata": {},
   "outputs": [],
   "source": [
    "# Import des librairies.\n",
    "import pandas as pd\n",
    "import seaborn as sns \n",
    "import pymysql\n",
    "from sqlalchemy import create_engine\n",
    "from sqlalchemy import inspect"
   ]
  },
  {
   "cell_type": "code",
   "execution_count": null,
   "id": "acd4d8bb",
   "metadata": {},
   "outputs": [],
   "source": [
    "# Supression des Warnings.\n",
    "import warnings\n",
    "warnings.filterwarnings('ignore')"
   ]
  },
  {
   "cell_type": "markdown",
   "id": "5120e495",
   "metadata": {},
   "source": [
    "#### Fonction permettent d'obtenir une liste de tous les DataFrames."
   ]
  },
  {
   "cell_type": "code",
   "execution_count": 2,
   "id": "4e8d96f5",
   "metadata": {},
   "outputs": [],
   "source": [
    "def loading_data(number_file):\n",
    "    liste_data = []\n",
    "    for i in number_file:\n",
    "        data = pd.read_csv(f\"data/2016_{i}.csv\", error_bad_lines=False)\n",
    "        liste_data.append(data)\n",
    "    print(\"Les 12 DataFrames ont été chargés avec succès\")\n",
    "    return liste_data"
   ]
  },
  {
   "cell_type": "markdown",
   "id": "770cbfca",
   "metadata": {},
   "source": [
    "#### Fonction permettent d'envoyer les 12 DataFrames sur SQL."
   ]
  },
  {
   "cell_type": "code",
   "execution_count": null,
   "id": "9e4613bf",
   "metadata": {},
   "outputs": [],
   "source": [
    "def send_df_to_sql(number_file, conn):    \n",
    "    for i in number_file:         \n",
    "        table_name = f'2016_{i}'\n",
    "        df=pd.read_csv(f\"data/{table_name}.csv\", error_bad_lines=False)\n",
    "        engine = create_engine('mysql+pymysql://root:@localhost/avion')\n",
    "        inspector = inspect(engine)\n",
    "        if table_name in inspector.get_table_names():\n",
    "            print(f\"Table {table_name} déja existante...\")\n",
    "        else:\n",
    "            df.to_sql(name=table_name, con=engine, if_exists='fail', index=False)\n",
    "    print(\"Toutes les tables ont été envoyés avec succès dans la base de données\")"
   ]
  },
  {
   "cell_type": "markdown",
   "id": "8884d3c7",
   "metadata": {},
   "source": [
    "#### Fonction permettent de récupérer les 12 tables présentes sur SQL."
   ]
  },
  {
   "cell_type": "code",
   "execution_count": 1,
   "id": "8d101196",
   "metadata": {},
   "outputs": [],
   "source": [
    "def get_tables_SQL(conn, number_file):\n",
    "    liste_tables = []\n",
    "    for i in number_file:\n",
    "        table=pd.read_sql_query(f\"SELECT * FROM 2016_{i}\", conn)\n",
    "        liste_tables.append(table)\n",
    "    df_concat=pd.concat([i for i in liste_tables], axis=0)\n",
    "    print('Concaténation des 12 tables réussis')\n",
    "    return df_concat"
   ]
  }
 ],
 "metadata": {
  "kernelspec": {
   "display_name": "Python 3 (ipykernel)",
   "language": "python",
   "name": "python3"
  },
  "language_info": {
   "codemirror_mode": {
    "name": "ipython",
    "version": 3
   },
   "file_extension": ".py",
   "mimetype": "text/x-python",
   "name": "python",
   "nbconvert_exporter": "python",
   "pygments_lexer": "ipython3",
   "version": "3.9.13"
  }
 },
 "nbformat": 4,
 "nbformat_minor": 5
}
