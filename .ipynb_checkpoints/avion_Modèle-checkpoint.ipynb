{
 "cells": [
  {
   "cell_type": "code",
   "execution_count": null,
   "id": "2d7b8ebb",
   "metadata": {},
   "outputs": [],
   "source": [
    "# Import des librairies.\n",
    "import pandas as pd\n",
    "import seaborn as sns "
   ]
  },
  {
   "cell_type": "code",
   "execution_count": null,
   "id": "bdc3e2ec",
   "metadata": {},
   "outputs": [],
   "source": [
    "# Supression des Warnings.\n",
    "import warnings\n",
    "warnings.filterwarnings('ignore')"
   ]
  },
  {
   "cell_type": "code",
   "execution_count": null,
   "id": "451f24e9",
   "metadata": {},
   "outputs": [],
   "source": [
    "# Import de la data\n",
    "data = pd.read_csv(\"data/clean_data.csv\")"
   ]
  },
  {
   "cell_type": "code",
   "execution_count": null,
   "id": "0686b6a1",
   "metadata": {},
   "outputs": [],
   "source": [
    "# Séparation des features & la Target\n",
    "X = data.drop('', axis='')\n",
    "Y = data[\"\"]"
   ]
  },
  {
   "cell_type": "markdown",
   "id": "41224487",
   "metadata": {},
   "source": [
    "### CLASSEMENT DES COLONNES"
   ]
  },
  {
   "cell_type": "code",
   "execution_count": null,
   "id": "814e77d1",
   "metadata": {},
   "outputs": [],
   "source": [
    "data.columns"
   ]
  },
  {
   "cell_type": "code",
   "execution_count": null,
   "id": "1e369569",
   "metadata": {},
   "outputs": [],
   "source": [
    "# Classement des colonnes dans des listes.\n",
    "target         = []\n",
    "drop           = []\n",
    "passthrough    = []\n",
    "text           = []\n",
    "num_manquantes = []\n",
    "cat_manquantes = []\n",
    "cat            = []"
   ]
  },
  {
   "cell_type": "code",
   "execution_count": null,
   "id": "89e7b7a1",
   "metadata": {},
   "outputs": [],
   "source": [
    "# Liste contenant toutes les colonnes\n",
    "all_cols = [\n",
    "    target,\n",
    "    drop,\n",
    "    passthrough,\n",
    "    text,\n",
    "    num_manquantes,\n",
    "    cat_manquantes,\n",
    "    cat,\n",
    "]"
   ]
  },
  {
   "cell_type": "code",
   "execution_count": null,
   "id": "faacae9c",
   "metadata": {},
   "outputs": [],
   "source": [
    "# Vérification (fautes ortographes, oublie de colonnes etc...)\n",
    "def check_work(df, liste_all_listes):\n",
    "    set_nos_cols = set()\n",
    "    for liste in liste_all_listes:\n",
    "        for col in liste:\n",
    "            if col in set_nos_cols:\n",
    "                print(f\"Warning : La colonne '{col}' est déja présente !\")\n",
    "            set_nos_cols.add(col)         \n",
    "    set_colonnes_originales = set(df.columns)\n",
    "    mal_écrites = set_nos_cols - set_colonnes_originales\n",
    "    col_manquantes = set_colonnes_originales - set_nos_cols\n",
    "    print(f\"Des colonnes sont manquantes :  {col_manquantes}\")\n",
    "    print(f\"Des colonnes sont mal écrites : {mal_écrites}\")"
   ]
  },
  {
   "cell_type": "code",
   "execution_count": null,
   "id": "c4fe654f",
   "metadata": {},
   "outputs": [],
   "source": [
    "# Vérification\n",
    "check_work(df=data, liste_all_listes=all_cols)"
   ]
  },
  {
   "cell_type": "markdown",
   "id": "cac25cf9",
   "metadata": {},
   "source": [
    "### PREPROCESSING"
   ]
  },
  {
   "cell_type": "code",
   "execution_count": null,
   "id": "04317b50",
   "metadata": {},
   "outputs": [],
   "source": [
    "# Importer des outils pour faire le preprocessing\n",
    "from sklearn.impute import SimpleImputer\n",
    "from sklearn.preprocessing import OneHotEncoder\n",
    "from sklearn.preprocessing import FunctionTransformer"
   ]
  },
  {
   "cell_type": "code",
   "execution_count": null,
   "id": "c26bacf2",
   "metadata": {},
   "outputs": [],
   "source": [
    "# Importer les utilitaires sklearn pour faire ça proprement\n",
    "from sklearn.pipeline import make_pipeline\n",
    "from sklearn.compose import make_column_transformer\n",
    "from sklearn.model_selection import KFold"
   ]
  },
  {
   "cell_type": "code",
   "execution_count": null,
   "id": "b0956707",
   "metadata": {},
   "outputs": [],
   "source": [
    "# Preprocessing Complet.\n",
    "preprocessing = make_column_transformer(\n",
    "    (,                 cat),\n",
    "    (,                 cat_manquantes),\n",
    "    (,                 num_manquantes),\n",
    "    (\"passthrough\",    passthrough),\n",
    "    (\"drop\",           drop)      \n",
    ")"
   ]
  },
  {
   "cell_type": "markdown",
   "id": "d7e107b1",
   "metadata": {},
   "source": [
    "### PIPELINE"
   ]
  },
  {
   "cell_type": "code",
   "execution_count": null,
   "id": "e5b6a853",
   "metadata": {},
   "outputs": [],
   "source": [
    "# Créer une Pipeline\n",
    "from sklearn.pipeline import Pipeline"
   ]
  },
  {
   "cell_type": "code",
   "execution_count": null,
   "id": "d2ec39bc",
   "metadata": {},
   "outputs": [],
   "source": [
    "# Les Algorithmes de Machine Learning\n",
    "# Les imports..."
   ]
  },
  {
   "cell_type": "code",
   "execution_count": null,
   "id": "157b2d65",
   "metadata": {},
   "outputs": [],
   "source": [
    "# Modele\n",
    "model_pipeline = Pipeline([\n",
    "    ('Preprocessing', preprocessing),\n",
    "    ('model', model),\n",
    "])"
   ]
  },
  {
   "cell_type": "markdown",
   "id": "2b05f3e7",
   "metadata": {},
   "source": [
    "#### CrossValidation"
   ]
  },
  {
   "cell_type": "code",
   "execution_count": null,
   "id": "c53adf7e",
   "metadata": {},
   "outputs": [],
   "source": [
    "cross_validation_folds = KFold(n_splits=5, shuffle=True, random_state=777)"
   ]
  },
  {
   "cell_type": "markdown",
   "id": "9d0e6412",
   "metadata": {},
   "source": [
    "### GRIDSEARCH"
   ]
  },
  {
   "cell_type": "code",
   "execution_count": null,
   "id": "bad1f16a",
   "metadata": {},
   "outputs": [],
   "source": [
    "knn = {}\n",
    "\n",
    "# pipeline knn\n",
    "knn[\"pipeline\"] = Pipeline([\n",
    "                            ('preprocessing', preprocessing),\n",
    "                            ('knn', KNN()),\n",
    "])\n",
    "\n",
    "# Grille pour la pipeline KNN\n",
    "knn[\"hyperparamètres\"] = {}\n",
    "knn[\"hyperparamètres\"][\"knn__n_neighbors\"]  = [1, 3, 5, 7, 9, 13, 17, 21, 27, 29]\n",
    "knn[\"hyperparamètres\"][\"knn__weights\"]      = [\"uniform\", \"distance\"]\n",
    "\n",
    "# gridsearch pour la pipeline KNN\n",
    "knn[\"gridsearch\"] = GridSearchCV(estimator  = knn[\"pipeline\"],\n",
    "                                 param_grid = knn[\"hyperparamètres\"],\n",
    "                                 scoring    = 'balanced_accuracy', \n",
    "                                 cv         = cross_validation_folds)"
   ]
  },
  {
   "cell_type": "code",
   "execution_count": null,
   "id": "5cc85d24",
   "metadata": {},
   "outputs": [],
   "source": [
    "knn[\"gridsearch\"].fit(X, Y);"
   ]
  },
  {
   "cell_type": "code",
   "execution_count": null,
   "id": "2484a440",
   "metadata": {},
   "outputs": [],
   "source": [
    "knn[\"gridsearch\"].best_params_;"
   ]
  },
  {
   "cell_type": "code",
   "execution_count": null,
   "id": "a42f77a0",
   "metadata": {},
   "outputs": [],
   "source": [
    "knn[\"gridsearch\"].best_score_;"
   ]
  },
  {
   "cell_type": "markdown",
   "id": "480fce39",
   "metadata": {},
   "source": [
    "### PIPELINE FINAL"
   ]
  },
  {
   "cell_type": "code",
   "execution_count": null,
   "id": "f64a118f",
   "metadata": {},
   "outputs": [],
   "source": [
    "pipeline_final = Pipeline([\n",
    "    ('preprocessing', preprocessing), \n",
    "    ('knn',           model(\"les meilleurs paramètres\"))\n",
    "])"
   ]
  },
  {
   "cell_type": "code",
   "execution_count": null,
   "id": "76722b61",
   "metadata": {},
   "outputs": [],
   "source": [
    "# Entrainement sur toutes les données.\n",
    "pipeline_final.fit(X, Y);"
   ]
  },
  {
   "cell_type": "code",
   "execution_count": null,
   "id": "3e297970",
   "metadata": {},
   "outputs": [],
   "source": [
    "# Pipeline : Les prédictions finales.\n",
    "predict = pipeline_final.predict(df_test)"
   ]
  },
  {
   "cell_type": "code",
   "execution_count": null,
   "id": "3161041e",
   "metadata": {},
   "outputs": [],
   "source": [
    "# Affichage des prédictions.\n",
    "predict"
   ]
  },
  {
   "cell_type": "markdown",
   "id": "1d8c5d3b",
   "metadata": {},
   "source": [
    "## test formulaire "
   ]
  },
  {
   "cell_type": "code",
   "execution_count": 1,
   "id": "463dfeda",
   "metadata": {
    "scrolled": true
   },
   "outputs": [
    {
     "ename": "NameError",
     "evalue": "name 'st' is not defined",
     "output_type": "error",
     "traceback": [
      "\u001b[1;31m---------------------------------------------------------------------------\u001b[0m",
      "\u001b[1;31mNameError\u001b[0m                                 Traceback (most recent call last)",
      "\u001b[1;32m~\\AppData\\Local\\Temp\\ipykernel_23868\\2135327931.py\u001b[0m in \u001b[0;36m<module>\u001b[1;34m\u001b[0m\n\u001b[0;32m      1\u001b[0m form = {\n\u001b[1;32m----> 2\u001b[1;33m     \u001b[1;34m\"DEP_TIME\"\u001b[0m  \u001b[1;33m:\u001b[0m \u001b[0mst\u001b[0m\u001b[1;33m.\u001b[0m\u001b[0mtext_input\u001b[0m\u001b[1;33m(\u001b[0m\u001b[1;34m\"Veuillez saisir l'heure de départ\"\u001b[0m\u001b[1;33m)\u001b[0m\u001b[1;33m,\u001b[0m\u001b[1;33m\u001b[0m\u001b[1;33m\u001b[0m\u001b[0m\n\u001b[0m\u001b[0;32m      3\u001b[0m     \u001b[1;34m\"DEP_DELAY\"\u001b[0m \u001b[1;33m:\u001b[0m \u001b[0mst\u001b[0m\u001b[1;33m.\u001b[0m\u001b[0mtext_input\u001b[0m\u001b[1;33m(\u001b[0m\u001b[1;34m\"Veuillez saisir l'heure de retard en minute\"\u001b[0m\u001b[1;33m)\u001b[0m\u001b[1;33m,\u001b[0m\u001b[1;33m\u001b[0m\u001b[1;33m\u001b[0m\u001b[0m\n\u001b[0;32m      4\u001b[0m     \u001b[1;34m\"DISTANCE\"\u001b[0m  \u001b[1;33m:\u001b[0m \u001b[0mst\u001b[0m\u001b[1;33m.\u001b[0m\u001b[0mtext_input\u001b[0m\u001b[1;33m(\u001b[0m\u001b[1;34m\"Veuillez saisir la distance en km\"\u001b[0m\u001b[1;33m)\u001b[0m\u001b[1;33m\u001b[0m\u001b[1;33m\u001b[0m\u001b[0m\n\u001b[0;32m      5\u001b[0m }  \n",
      "\u001b[1;31mNameError\u001b[0m: name 'st' is not defined"
     ]
    }
   ],
   "source": [
    "form = {\n",
    "    \"DEP_TIME\"  : input(\"Veuillez saisir l'heure de départ\"),\n",
    "    \"DEP_DELAY\" : input(\"Veuillez saisir l'heure de retard en minute\"),\n",
    "    \"DISTANCE\"  : input(\"Veuillez saisir la distance en km\")\n",
    "}  "
   ]
  }
 ],
 "metadata": {
  "kernelspec": {
   "display_name": "Python 3 (ipykernel)",
   "language": "python",
   "name": "python3"
  },
  "language_info": {
   "codemirror_mode": {
    "name": "ipython",
    "version": 3
   },
   "file_extension": ".py",
   "mimetype": "text/x-python",
   "name": "python",
   "nbconvert_exporter": "python",
   "pygments_lexer": "ipython3",
   "version": "3.9.13"
  }
 },
 "nbformat": 4,
 "nbformat_minor": 5
}
