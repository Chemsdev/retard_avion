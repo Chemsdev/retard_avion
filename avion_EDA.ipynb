{
 "cells": [
  {
   "cell_type": "markdown",
   "id": "afc0e07f",
   "metadata": {},
   "source": [
    "## Préparation de la données"
   ]
  },
  {
   "cell_type": "markdown",
   "id": "ed2941a5",
   "metadata": {},
   "source": [
    "#### Importation des librairies"
   ]
  },
  {
   "cell_type": "code",
   "execution_count": null,
   "id": "046192e7",
   "metadata": {},
   "outputs": [],
   "source": [
    "# Import de notre librairie.\n",
    "# import librairie\n",
    "\n",
    "# Import des librairies.\n",
    "import pandas as pd\n",
    "import seaborn as sns \n",
    "import pymysql\n",
    "from sqlalchemy import create_engine\n",
    "from sqlalchemy import inspect"
   ]
  },
  {
   "cell_type": "code",
   "execution_count": null,
   "id": "ab2bd0f6",
   "metadata": {},
   "outputs": [],
   "source": [
    "# Supression des Warnings.\n",
    "import warnings\n",
    "warnings.filterwarnings('ignore')"
   ]
  },
  {
   "cell_type": "markdown",
   "id": "8ee66cef",
   "metadata": {},
   "source": [
    "####  Connexion avec la base de données & définition des numéros de fichier."
   ]
  },
  {
   "cell_type": "code",
   "execution_count": 11,
   "id": "c8f81cc2",
   "metadata": {},
   "outputs": [],
   "source": [
    "# Liste des numéro des fichiers & connexion à la BDD.\n",
    "number_file=[\"01\", \"02\",\"03\",\"04\",\"05\",\"06\",\"07\",\"08\",\"09\",\"10\",\"11\",\"12\"]\n",
    "conn=pymysql.connect(host='localhost',port=int(3306),user='root', passwd='', db='avion')"
   ]
  },
  {
   "cell_type": "markdown",
   "id": "e0d130be",
   "metadata": {},
   "source": [
    "#### Chargement des 12 DataFrames dans une liste."
   ]
  },
  {
   "cell_type": "code",
   "execution_count": null,
   "id": "d8aaff85",
   "metadata": {
    "scrolled": true
   },
   "outputs": [],
   "source": [
    "# Récupération de la data.\n",
    "liste_data = librairie.loading_data(number_file=number_file)"
   ]
  },
  {
   "cell_type": "markdown",
   "id": "35a7caef",
   "metadata": {},
   "source": [
    "#### Envoie des DataFrames dans la base de données, dans des Tables."
   ]
  },
  {
   "cell_type": "code",
   "execution_count": null,
   "id": "814550e7",
   "metadata": {
    "scrolled": true
   },
   "outputs": [],
   "source": [
    "# Envoie des DataFrames dans les tables SQL\n",
    "librairie.send_df_to_sql(number_file=number_file)"
   ]
  },
  {
   "cell_type": "markdown",
   "id": "b2d12f60",
   "metadata": {},
   "source": [
    "#### Récupération des 12 tables SQL et concaténation."
   ]
  },
  {
   "cell_type": "code",
   "execution_count": null,
   "id": "02912eab",
   "metadata": {
    "scrolled": true
   },
   "outputs": [],
   "source": [
    "# Obtention des 12 tables présentes sur SQL et concaténation.\n",
    "data = librairie.get_tables_SQL(conn=conn, number_file=number_file)"
   ]
  },
  {
   "cell_type": "markdown",
   "id": "d0a1eab1",
   "metadata": {},
   "source": [
    "## EDA"
   ]
  },
  {
   "cell_type": "code",
   "execution_count": null,
   "id": "2d0e6f96",
   "metadata": {},
   "outputs": [],
   "source": [
    "def send_df_to_sql(number_file):    \n",
    "    print(\"Envoie des DataFrames dans les tables SQL...\")\n",
    "    for i in number_file:         \n",
    "        table_name=f'2016_{i}'\n",
    "        df=pd.read_csv(f\"data/{table_name}.csv\", error_bad_lines=False)\n",
    "        engine=create_engine('mysql+pymysql://root:@localhost/avion')\n",
    "        inspector=inspect(engine)\n",
    "        if table_name in inspector.get_table_names():\n",
    "            print(f\"Table {table_name} déja existante...\")\n",
    "        else:\n",
    "            df.to_sql(name=table_name, con=engine, if_exists='fail', index=False)\n",
    "    print(\"===> Envoie des 12 DataFrames en BDD réussis.\")"
   ]
  },
  {
   "cell_type": "code",
   "execution_count": null,
   "id": "0f077b4c",
   "metadata": {},
   "outputs": [],
   "source": [
    "### Fonction permettent de récupérer les 12 tables présentes sur SQL et contaténation.\n",
    "### Les paramètres : on donne en paramètre les numéros de fichiers et la connexion à la BDD.\n",
    "def get_tables_SQL(conn, number_file):                                                      \n",
    "    print(\"Obtention et concaténation des 12 Tables SQL...\")\n",
    "    liste_tables=[]\n",
    "    for i in number_file:\n",
    "        table=pd.read_sql_query(f\"SELECT * FROM 2016_{i}\", conn)\n",
    "        liste_tables.append(table)\n",
    "    df_concat=pd.concat([i for i in liste_tables], axis=0)\n",
    "    print(\"===> Concaténation des 12 tables réussis.\")\n",
    "    return df_concat"
   ]
  },
  {
   "cell_type": "code",
   "execution_count": null,
   "id": "086a0285",
   "metadata": {},
   "outputs": [],
   "source": [
    "send_df_to_sql(number_file)"
   ]
  },
  {
   "cell_type": "code",
   "execution_count": null,
   "id": "7b13b5eb",
   "metadata": {},
   "outputs": [],
   "source": [
    "get_tables_SQL(conn, number_file)"
   ]
  },
  {
   "cell_type": "code",
   "execution_count": null,
   "id": "d4a76d9a",
   "metadata": {},
   "outputs": [],
   "source": []
  },
  {
   "cell_type": "code",
   "execution_count": null,
   "id": "a01378ad",
   "metadata": {},
   "outputs": [],
   "source": [
    "import sqlite3\n",
    "import pymysql"
   ]
  },
  {
   "cell_type": "code",
   "execution_count": null,
   "id": "5fc4cfe7",
   "metadata": {},
   "outputs": [],
   "source": [
    "name_column=[\"DEP_TIME\",\"DEP_DELAY\",\"DISTANCE\",\"predict\"]"
   ]
  },
  {
   "cell_type": "code",
   "execution_count": null,
   "id": "8334e495",
   "metadata": {},
   "outputs": [],
   "source": [
    "\n",
    "# Se connecter à la base de données\n",
    "conn=pymysql.connect(host='localhost',port=int(3306),user='root', passwd='', db='avion')\n",
    "\n",
    "# Créer un curseur\n",
    "cursor = conn.cursor()\n",
    "\n",
    "# Insérer des données dans la table\n",
    "sql = \"INSERT INTO predictions_clients (DEP_TIME, DEP_DELAY, DISTANCE, predict) VALUES (%s, %s,%s,%s)\"\n",
    "values = (1, 1, 1, 1)\n",
    "cursor.execute(sql, values)\n",
    "\n",
    "# Valider la transaction\n",
    "conn.commit()\n",
    "\n",
    "# Fermer la connexion\n",
    "conn.close()"
   ]
  },
  {
   "cell_type": "code",
   "execution_count": null,
   "id": "76ec97d2",
   "metadata": {},
   "outputs": [],
   "source": []
  },
  {
   "cell_type": "code",
   "execution_count": null,
   "id": "9938f502",
   "metadata": {},
   "outputs": [],
   "source": []
  },
  {
   "cell_type": "code",
   "execution_count": 6,
   "id": "da324a66",
   "metadata": {},
   "outputs": [],
   "source": [
    "import pymysql"
   ]
  },
  {
   "cell_type": "code",
   "execution_count": 12,
   "id": "c58b20fe",
   "metadata": {},
   "outputs": [
    {
     "name": "stdout",
     "output_type": "stream",
     "text": [
      "Veuillez saisir l'heure de départ1\n",
      "Veuillez saisir le temps de retard en minute1\n",
      "Veuillez saisir la distance en km1\n"
     ]
    }
   ],
   "source": [
    "formulaire={\n",
    "    \"DEP_TIME\"  : input(\"Veuillez saisir l'heure de départ\"),\n",
    "    \"DEP_DELAY\" : input(\"Veuillez saisir le temps de retard en minute\"),\n",
    "    \"DISTANCE\"  : input(\"Veuillez saisir la distance en km\")\n",
    "}"
   ]
  },
  {
   "cell_type": "code",
   "execution_count": 13,
   "id": "c9992fa3",
   "metadata": {},
   "outputs": [],
   "source": [
    "def save_formulaire(conn, values):\n",
    "    cursor = conn.cursor()\n",
    "    sql = \"INSERT INTO predictions_clients (DEP_TIME, DEP_DELAY, DISTANCE, predict) VALUES (%s, %s,%s,%s)\"\n",
    "    cursor.execute(sql, values)\n",
    "    conn.commit()\n",
    "    conn.close()    "
   ]
  },
  {
   "cell_type": "code",
   "execution_count": null,
   "id": "c009df4e",
   "metadata": {},
   "outputs": [],
   "source": []
  }
 ],
 "metadata": {
  "kernelspec": {
   "display_name": "Python 3 (ipykernel)",
   "language": "python",
   "name": "python3"
  },
  "language_info": {
   "codemirror_mode": {
    "name": "ipython",
    "version": 3
   },
   "file_extension": ".py",
   "mimetype": "text/x-python",
   "name": "python",
   "nbconvert_exporter": "python",
   "pygments_lexer": "ipython3",
   "version": "3.9.13"
  }
 },
 "nbformat": 4,
 "nbformat_minor": 5
}
